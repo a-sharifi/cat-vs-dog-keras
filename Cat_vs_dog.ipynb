{
  "nbformat": 4,
  "nbformat_minor": 0,
  "metadata": {
    "colab": {
      "name": "Cat-vs-dog.ipynb",
      "version": "0.3.2",
      "provenance": [],
      "include_colab_link": true
    },
    "kernelspec": {
      "name": "python3",
      "display_name": "Python 3"
    },
    "accelerator": "TPU"
  },
  "cells": [
    {
      "cell_type": "markdown",
      "metadata": {
        "id": "view-in-github",
        "colab_type": "text"
      },
      "source": [
        "<a href=\"https://colab.research.google.com/github/amirsharifi74/cat-vs-dog-keras/blob/master/Cat_vs_dog.ipynb\" target=\"_parent\"><img src=\"https://colab.research.google.com/assets/colab-badge.svg\" alt=\"Open In Colab\"/></a>"
      ]
    },
    {
      "metadata": {
        "id": "6kM0XLEZzsOq",
        "colab_type": "text"
      },
      "cell_type": "markdown",
      "source": [
        "# Frist Preproccecing Data"
      ]
    },
    {
      "metadata": {
        "id": "RnwWIgCFvjZP",
        "colab_type": "code",
        "colab": {
          "base_uri": "https://localhost:8080/",
          "height": 34
        },
        "outputId": "a9ce2649-b94e-4a43-eba1-0c1e6d2f3b99"
      },
      "cell_type": "code",
      "source": [
        "#@title mount google drive\n",
        "from google.colab import drive\n",
        "drive.mount('/content/amirdrive')"
      ],
      "execution_count": 3,
      "outputs": [
        {
          "output_type": "stream",
          "text": [
            "Drive already mounted at /content/amirdrive; to attempt to forcibly remount, call drive.mount(\"/content/amirdrive\", force_remount=True).\n"
          ],
          "name": "stdout"
        }
      ]
    },
    {
      "metadata": {
        "id": "_5GPvqKoyv8z",
        "colab_type": "code",
        "colab": {
          "base_uri": "https://localhost:8080/",
          "height": 34
        },
        "outputId": "3e07b25a-be07-4de0-deee-b2ff32fac3a0"
      },
      "cell_type": "code",
      "source": [
        "import numpy as np\n",
        "import os\n",
        "import keras\n",
        "import cv2\n",
        "import tqdm\n",
        "import random\n",
        "import matplotlib.pyplot as plt"
      ],
      "execution_count": 4,
      "outputs": [
        {
          "output_type": "stream",
          "text": [
            "Using TensorFlow backend.\n"
          ],
          "name": "stderr"
        }
      ]
    },
    {
      "metadata": {
        "id": "pmHvQqFdzQp4",
        "colab_type": "code",
        "colab": {
          "base_uri": "https://localhost:8080/",
          "height": 170
        },
        "outputId": "057935a2-b2f5-486c-fc4b-a19fcb29876e"
      },
      "cell_type": "code",
      "source": [
        "DATA_DIR = '/content/amirdrive/My Drive/Document/Database'\n",
        "CATEGORIES = ['Dog','Cat']\n",
        "IMG_SIZE = 60\n",
        "training_data = []\n",
        "\n",
        "\n",
        "def creat_training_data():\n",
        "  \n",
        "  for categories in CATEGORIES:\n",
        "    print('1')\n",
        "    path = os.path.join(DATA_DIR,categories)\n",
        "    class_num = CATEGORIES.index(categories)\n",
        "    for img in tqdm.tqdm(os.listdir(path)):\n",
        "      try:\n",
        "        img_array = cv2.imread(os.path.join(path,img),cv2.IMREAD_GRAYSCALE)\n",
        "        \n",
        "        \n",
        "      except Exeption as e:\n",
        "        pass\n",
        "\n",
        "    \n",
        "creat_training_data()"
      ],
      "execution_count": 6,
      "outputs": [
        {
          "output_type": "stream",
          "text": [
            "\r  0%|          | 0/511 [00:00<?, ?it/s]"
          ],
          "name": "stderr"
        },
        {
          "output_type": "stream",
          "text": [
            "1\n",
            "[[137 137 137 ... 139 139 139]\n",
            " [137 137 137 ... 143 143 143]\n",
            " [137 137 137 ... 136 136 136]\n",
            " ...\n",
            " [ 91  91  92 ...  70  70  70]\n",
            " [ 92  92  93 ...  70  69  69]\n",
            " [ 93  93  94 ...  69  68  68]]\n"
          ],
          "name": "stdout"
        },
        {
          "output_type": "stream",
          "text": [
            "\n"
          ],
          "name": "stderr"
        }
      ]
    },
    {
      "metadata": {
        "id": "fuCpIgOo1ZSY",
        "colab_type": "code",
        "colab": {}
      },
      "cell_type": "code",
      "source": [
        ""
      ],
      "execution_count": 0,
      "outputs": []
    }
  ]
}